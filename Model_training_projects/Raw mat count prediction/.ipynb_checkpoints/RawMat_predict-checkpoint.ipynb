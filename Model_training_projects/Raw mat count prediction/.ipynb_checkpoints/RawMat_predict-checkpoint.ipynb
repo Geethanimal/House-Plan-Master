{
 "cells": [
  {
   "cell_type": "markdown",
   "id": "88f190e0",
   "metadata": {},
   "source": [
    "# Importing required packages"
   ]
  },
  {
   "cell_type": "code",
   "execution_count": 1083,
   "id": "7fc872e4",
   "metadata": {},
   "outputs": [],
   "source": [
    "import numpy as np\n",
    "import pandas as pd\n",
    "import matplotlib.pyplot as plt\n",
    "import sklearn.metrics as sm\n",
    "%matplotlib inline\n",
    "from sklearn.linear_model import LinearRegression"
   ]
  },
  {
   "cell_type": "markdown",
   "id": "cf2b5c49",
   "metadata": {},
   "source": [
    "# Loading the data set"
   ]
  },
  {
   "cell_type": "code",
   "execution_count": 1084,
   "id": "3b2f9d58",
   "metadata": {},
   "outputs": [],
   "source": [
    "dataset_rawmat = pd.read_csv('dataset_rawmat.csv')"
   ]
  },
  {
   "cell_type": "code",
   "execution_count": 1085,
   "id": "1880bfe3",
   "metadata": {},
   "outputs": [
    {
     "data": {
      "text/html": [
       "<div>\n",
       "<style scoped>\n",
       "    .dataframe tbody tr th:only-of-type {\n",
       "        vertical-align: middle;\n",
       "    }\n",
       "\n",
       "    .dataframe tbody tr th {\n",
       "        vertical-align: top;\n",
       "    }\n",
       "\n",
       "    .dataframe thead th {\n",
       "        text-align: right;\n",
       "    }\n",
       "</style>\n",
       "<table border=\"1\" class=\"dataframe\">\n",
       "  <thead>\n",
       "    <tr style=\"text-align: right;\">\n",
       "      <th></th>\n",
       "      <th>Squre feet</th>\n",
       "      <th>thickness</th>\n",
       "      <th>cement</th>\n",
       "      <th>sand</th>\n",
       "      <th>bricks</th>\n",
       "      <th>steel</th>\n",
       "    </tr>\n",
       "  </thead>\n",
       "  <tbody>\n",
       "    <tr>\n",
       "      <th>0</th>\n",
       "      <td>1</td>\n",
       "      <td>4</td>\n",
       "      <td>76</td>\n",
       "      <td>1.8</td>\n",
       "      <td>1.45</td>\n",
       "      <td>4</td>\n",
       "    </tr>\n",
       "    <tr>\n",
       "      <th>1</th>\n",
       "      <td>500</td>\n",
       "      <td>4</td>\n",
       "      <td>38000</td>\n",
       "      <td>900.0</td>\n",
       "      <td>725.00</td>\n",
       "      <td>2000</td>\n",
       "    </tr>\n",
       "    <tr>\n",
       "      <th>2</th>\n",
       "      <td>600</td>\n",
       "      <td>4</td>\n",
       "      <td>45600</td>\n",
       "      <td>1080.0</td>\n",
       "      <td>870.00</td>\n",
       "      <td>2400</td>\n",
       "    </tr>\n",
       "    <tr>\n",
       "      <th>3</th>\n",
       "      <td>900</td>\n",
       "      <td>4</td>\n",
       "      <td>68400</td>\n",
       "      <td>1620.0</td>\n",
       "      <td>1305.00</td>\n",
       "      <td>3600</td>\n",
       "    </tr>\n",
       "    <tr>\n",
       "      <th>4</th>\n",
       "      <td>1000</td>\n",
       "      <td>4</td>\n",
       "      <td>76000</td>\n",
       "      <td>1800.0</td>\n",
       "      <td>1450.00</td>\n",
       "      <td>4000</td>\n",
       "    </tr>\n",
       "    <tr>\n",
       "      <th>5</th>\n",
       "      <td>2000</td>\n",
       "      <td>4</td>\n",
       "      <td>152000</td>\n",
       "      <td>3600.0</td>\n",
       "      <td>2900.00</td>\n",
       "      <td>8000</td>\n",
       "    </tr>\n",
       "    <tr>\n",
       "      <th>6</th>\n",
       "      <td>2500</td>\n",
       "      <td>4</td>\n",
       "      <td>190000</td>\n",
       "      <td>4500.0</td>\n",
       "      <td>3625.00</td>\n",
       "      <td>10000</td>\n",
       "    </tr>\n",
       "    <tr>\n",
       "      <th>7</th>\n",
       "      <td>3000</td>\n",
       "      <td>4</td>\n",
       "      <td>228000</td>\n",
       "      <td>5400.0</td>\n",
       "      <td>4350.00</td>\n",
       "      <td>12000</td>\n",
       "    </tr>\n",
       "    <tr>\n",
       "      <th>8</th>\n",
       "      <td>3500</td>\n",
       "      <td>4</td>\n",
       "      <td>266000</td>\n",
       "      <td>6300.0</td>\n",
       "      <td>5075.00</td>\n",
       "      <td>14000</td>\n",
       "    </tr>\n",
       "  </tbody>\n",
       "</table>\n",
       "</div>"
      ],
      "text/plain": [
       "   Squre feet  thickness  cement    sand   bricks  steel\n",
       "0           1          4      76     1.8     1.45      4\n",
       "1         500          4   38000   900.0   725.00   2000\n",
       "2         600          4   45600  1080.0   870.00   2400\n",
       "3         900          4   68400  1620.0  1305.00   3600\n",
       "4        1000          4   76000  1800.0  1450.00   4000\n",
       "5        2000          4  152000  3600.0  2900.00   8000\n",
       "6        2500          4  190000  4500.0  3625.00  10000\n",
       "7        3000          4  228000  5400.0  4350.00  12000\n",
       "8        3500          4  266000  6300.0  5075.00  14000"
      ]
     },
     "execution_count": 1085,
     "metadata": {},
     "output_type": "execute_result"
    }
   ],
   "source": [
    "dataset_rawmat"
   ]
  },
  {
   "cell_type": "code",
   "execution_count": 1086,
   "id": "3a2978ad",
   "metadata": {},
   "outputs": [
    {
     "name": "stdout",
     "output_type": "stream",
     "text": [
      "<class 'pandas.core.frame.DataFrame'>\n",
      "RangeIndex: 9 entries, 0 to 8\n",
      "Data columns (total 6 columns):\n",
      " #   Column      Non-Null Count  Dtype  \n",
      "---  ------      --------------  -----  \n",
      " 0   Squre feet  9 non-null      int64  \n",
      " 1   thickness   9 non-null      int64  \n",
      " 2   cement      9 non-null      int64  \n",
      " 3   sand        9 non-null      float64\n",
      " 4   bricks      9 non-null      float64\n",
      " 5   steel       9 non-null      int64  \n",
      "dtypes: float64(2), int64(4)\n",
      "memory usage: 560.0 bytes\n"
     ]
    }
   ],
   "source": [
    "dataset_rawmat.info()"
   ]
  },
  {
   "cell_type": "code",
   "execution_count": 1087,
   "id": "d01d51b9",
   "metadata": {},
   "outputs": [
    {
     "data": {
      "text/html": [
       "<div>\n",
       "<style scoped>\n",
       "    .dataframe tbody tr th:only-of-type {\n",
       "        vertical-align: middle;\n",
       "    }\n",
       "\n",
       "    .dataframe tbody tr th {\n",
       "        vertical-align: top;\n",
       "    }\n",
       "\n",
       "    .dataframe thead th {\n",
       "        text-align: right;\n",
       "    }\n",
       "</style>\n",
       "<table border=\"1\" class=\"dataframe\">\n",
       "  <thead>\n",
       "    <tr style=\"text-align: right;\">\n",
       "      <th></th>\n",
       "      <th>Squre feet</th>\n",
       "      <th>thickness</th>\n",
       "      <th>cement</th>\n",
       "      <th>sand</th>\n",
       "      <th>bricks</th>\n",
       "      <th>steel</th>\n",
       "    </tr>\n",
       "  </thead>\n",
       "  <tbody>\n",
       "    <tr>\n",
       "      <th>count</th>\n",
       "      <td>9.000000</td>\n",
       "      <td>9.0</td>\n",
       "      <td>9.000000</td>\n",
       "      <td>9.000000</td>\n",
       "      <td>9.000000</td>\n",
       "      <td>9.000000</td>\n",
       "    </tr>\n",
       "    <tr>\n",
       "      <th>mean</th>\n",
       "      <td>1555.666667</td>\n",
       "      <td>4.0</td>\n",
       "      <td>118230.666667</td>\n",
       "      <td>2800.200000</td>\n",
       "      <td>2255.716667</td>\n",
       "      <td>6222.666667</td>\n",
       "    </tr>\n",
       "    <tr>\n",
       "      <th>std</th>\n",
       "      <td>1231.823445</td>\n",
       "      <td>0.0</td>\n",
       "      <td>93618.581831</td>\n",
       "      <td>2217.282201</td>\n",
       "      <td>1786.143995</td>\n",
       "      <td>4927.293781</td>\n",
       "    </tr>\n",
       "    <tr>\n",
       "      <th>min</th>\n",
       "      <td>1.000000</td>\n",
       "      <td>4.0</td>\n",
       "      <td>76.000000</td>\n",
       "      <td>1.800000</td>\n",
       "      <td>1.450000</td>\n",
       "      <td>4.000000</td>\n",
       "    </tr>\n",
       "    <tr>\n",
       "      <th>25%</th>\n",
       "      <td>600.000000</td>\n",
       "      <td>4.0</td>\n",
       "      <td>45600.000000</td>\n",
       "      <td>1080.000000</td>\n",
       "      <td>870.000000</td>\n",
       "      <td>2400.000000</td>\n",
       "    </tr>\n",
       "    <tr>\n",
       "      <th>50%</th>\n",
       "      <td>1000.000000</td>\n",
       "      <td>4.0</td>\n",
       "      <td>76000.000000</td>\n",
       "      <td>1800.000000</td>\n",
       "      <td>1450.000000</td>\n",
       "      <td>4000.000000</td>\n",
       "    </tr>\n",
       "    <tr>\n",
       "      <th>75%</th>\n",
       "      <td>2500.000000</td>\n",
       "      <td>4.0</td>\n",
       "      <td>190000.000000</td>\n",
       "      <td>4500.000000</td>\n",
       "      <td>3625.000000</td>\n",
       "      <td>10000.000000</td>\n",
       "    </tr>\n",
       "    <tr>\n",
       "      <th>max</th>\n",
       "      <td>3500.000000</td>\n",
       "      <td>4.0</td>\n",
       "      <td>266000.000000</td>\n",
       "      <td>6300.000000</td>\n",
       "      <td>5075.000000</td>\n",
       "      <td>14000.000000</td>\n",
       "    </tr>\n",
       "  </tbody>\n",
       "</table>\n",
       "</div>"
      ],
      "text/plain": [
       "        Squre feet  thickness         cement         sand       bricks  \\\n",
       "count     9.000000        9.0       9.000000     9.000000     9.000000   \n",
       "mean   1555.666667        4.0  118230.666667  2800.200000  2255.716667   \n",
       "std    1231.823445        0.0   93618.581831  2217.282201  1786.143995   \n",
       "min       1.000000        4.0      76.000000     1.800000     1.450000   \n",
       "25%     600.000000        4.0   45600.000000  1080.000000   870.000000   \n",
       "50%    1000.000000        4.0   76000.000000  1800.000000  1450.000000   \n",
       "75%    2500.000000        4.0  190000.000000  4500.000000  3625.000000   \n",
       "max    3500.000000        4.0  266000.000000  6300.000000  5075.000000   \n",
       "\n",
       "              steel  \n",
       "count      9.000000  \n",
       "mean    6222.666667  \n",
       "std     4927.293781  \n",
       "min        4.000000  \n",
       "25%     2400.000000  \n",
       "50%     4000.000000  \n",
       "75%    10000.000000  \n",
       "max    14000.000000  "
      ]
     },
     "execution_count": 1087,
     "metadata": {},
     "output_type": "execute_result"
    }
   ],
   "source": [
    "dataset_rawmat.describe()"
   ]
  },
  {
   "cell_type": "code",
   "execution_count": 1088,
   "id": "0a32f57b",
   "metadata": {},
   "outputs": [
    {
     "data": {
      "text/plain": [
       "0"
      ]
     },
     "execution_count": 1088,
     "metadata": {},
     "output_type": "execute_result"
    }
   ],
   "source": [
    "sum(dataset_rawmat.isnull().sum())"
   ]
  },
  {
   "cell_type": "code",
   "execution_count": 1089,
   "id": "6efb30b3",
   "metadata": {},
   "outputs": [
    {
     "name": "stdout",
     "output_type": "stream",
     "text": [
      "Squre feet    0\n",
      "thickness     0\n",
      "cement        0\n",
      "sand          0\n",
      "bricks        0\n",
      "steel         0\n",
      "dtype: int64\n"
     ]
    }
   ],
   "source": [
    "print((dataset_rawmat[['Squre feet','thickness','cement','sand','bricks','steel']]==0).sum())"
   ]
  },
  {
   "cell_type": "markdown",
   "id": "6b170804",
   "metadata": {},
   "source": [
    "# Defining X data set"
   ]
  },
  {
   "cell_type": "code",
   "execution_count": 1090,
   "id": "54c4cada",
   "metadata": {},
   "outputs": [
    {
     "data": {
      "text/plain": [
       "0       1\n",
       "1     500\n",
       "2     600\n",
       "3     900\n",
       "4    1000\n",
       "5    2000\n",
       "6    2500\n",
       "7    3000\n",
       "8    3500\n",
       "Name: Squre feet, dtype: int64"
      ]
     },
     "execution_count": 1090,
     "metadata": {},
     "output_type": "execute_result"
    }
   ],
   "source": [
    "x = dataset_rawmat['Squre feet']\n",
    "x"
   ]
  },
  {
   "cell_type": "markdown",
   "id": "7373fb95",
   "metadata": {},
   "source": [
    "# Converting X data set as a numpy (Single dimentional) array"
   ]
  },
  {
   "cell_type": "code",
   "execution_count": 1091,
   "id": "6da4134a",
   "metadata": {},
   "outputs": [
    {
     "data": {
      "text/plain": [
       "array([   1,  500,  600,  900, 1000, 2000, 2500, 3000, 3500], dtype=int64)"
      ]
     },
     "execution_count": 1091,
     "metadata": {},
     "output_type": "execute_result"
    }
   ],
   "source": [
    "x1 = np.array(x.values)\n",
    "x1"
   ]
  },
  {
   "cell_type": "markdown",
   "id": "3836ef94",
   "metadata": {},
   "source": [
    "# Defining Y data set"
   ]
  },
  {
   "cell_type": "code",
   "execution_count": 1092,
   "id": "f2907c79",
   "metadata": {},
   "outputs": [
    {
     "data": {
      "text/html": [
       "<div>\n",
       "<style scoped>\n",
       "    .dataframe tbody tr th:only-of-type {\n",
       "        vertical-align: middle;\n",
       "    }\n",
       "\n",
       "    .dataframe tbody tr th {\n",
       "        vertical-align: top;\n",
       "    }\n",
       "\n",
       "    .dataframe thead th {\n",
       "        text-align: right;\n",
       "    }\n",
       "</style>\n",
       "<table border=\"1\" class=\"dataframe\">\n",
       "  <thead>\n",
       "    <tr style=\"text-align: right;\">\n",
       "      <th></th>\n",
       "      <th>sand</th>\n",
       "    </tr>\n",
       "  </thead>\n",
       "  <tbody>\n",
       "    <tr>\n",
       "      <th>0</th>\n",
       "      <td>1.8</td>\n",
       "    </tr>\n",
       "    <tr>\n",
       "      <th>1</th>\n",
       "      <td>900.0</td>\n",
       "    </tr>\n",
       "    <tr>\n",
       "      <th>2</th>\n",
       "      <td>1080.0</td>\n",
       "    </tr>\n",
       "    <tr>\n",
       "      <th>3</th>\n",
       "      <td>1620.0</td>\n",
       "    </tr>\n",
       "    <tr>\n",
       "      <th>4</th>\n",
       "      <td>1800.0</td>\n",
       "    </tr>\n",
       "    <tr>\n",
       "      <th>5</th>\n",
       "      <td>3600.0</td>\n",
       "    </tr>\n",
       "    <tr>\n",
       "      <th>6</th>\n",
       "      <td>4500.0</td>\n",
       "    </tr>\n",
       "    <tr>\n",
       "      <th>7</th>\n",
       "      <td>5400.0</td>\n",
       "    </tr>\n",
       "    <tr>\n",
       "      <th>8</th>\n",
       "      <td>6300.0</td>\n",
       "    </tr>\n",
       "  </tbody>\n",
       "</table>\n",
       "</div>"
      ],
      "text/plain": [
       "     sand\n",
       "0     1.8\n",
       "1   900.0\n",
       "2  1080.0\n",
       "3  1620.0\n",
       "4  1800.0\n",
       "5  3600.0\n",
       "6  4500.0\n",
       "7  5400.0\n",
       "8  6300.0"
      ]
     },
     "execution_count": 1092,
     "metadata": {},
     "output_type": "execute_result"
    }
   ],
   "source": [
    "y1 = dataset_rawmat.drop(['Squre feet','thickness','cement','bricks','steel'],axis=1)\n",
    "y1"
   ]
  },
  {
   "cell_type": "markdown",
   "id": "c85fe79a",
   "metadata": {},
   "source": [
    "# Converting X data set as a numpy (Single dimentional) array"
   ]
  },
  {
   "cell_type": "code",
   "execution_count": 1093,
   "id": "b7f268ef",
   "metadata": {},
   "outputs": [
    {
     "data": {
      "text/plain": [
       "array([[1.80e+00],\n",
       "       [9.00e+02],\n",
       "       [1.08e+03],\n",
       "       [1.62e+03],\n",
       "       [1.80e+03],\n",
       "       [3.60e+03],\n",
       "       [4.50e+03],\n",
       "       [5.40e+03],\n",
       "       [6.30e+03]])"
      ]
     },
     "execution_count": 1093,
     "metadata": {},
     "output_type": "execute_result"
    }
   ],
   "source": [
    "y01 = np.array(y1.values)\n",
    "y01"
   ]
  },
  {
   "cell_type": "markdown",
   "id": "bb50014e",
   "metadata": {},
   "source": [
    "# Visualizing X and Y dataset values in x,y Graph"
   ]
  },
  {
   "cell_type": "code",
   "execution_count": 1094,
   "id": "ee502765",
   "metadata": {},
   "outputs": [
    {
     "data": {
      "text/plain": [
       "<matplotlib.collections.PathCollection at 0x1d3846a44f0>"
      ]
     },
     "execution_count": 1094,
     "metadata": {},
     "output_type": "execute_result"
    },
    {
     "data": {
      "image/png": "[encoded data removed]",
      "text/plain": [
       "<Figure size 432x288 with 1 Axes>"
      ]
     },
     "metadata": {
      "needs_background": "light"
     },
     "output_type": "display_data"
    }
   ],
   "source": [
    "plt.scatter(x1,y01)"
   ]
  },
  {
   "cell_type": "markdown",
   "id": "d092989e",
   "metadata": {},
   "source": [
    "# Splitting X and Y dataset to training set and testing sets"
   ]
  },
  {
   "cell_type": "code",
   "execution_count": 1095,
   "id": "67146a01",
   "metadata": {},
   "outputs": [],
   "source": [
    "from sklearn.model_selection import train_test_split\n",
    "X_train,X_test,y01_train,y01_test =train_test_split(x1.reshape((-1,1)),y01, test_size=0.25)"
   ]
  },
  {
   "cell_type": "code",
   "execution_count": 1096,
   "id": "3882ebbd",
   "metadata": {},
   "outputs": [],
   "source": [
    "def check_accOfModel(model):\n",
    "    model.fit(X_train,y01_train)\n",
    "    acc = model.score(X_test,y01_test)\n",
    "    print(str(model)+'-->'+str(acc))"
   ]
  },
  {
   "cell_type": "code",
   "execution_count": 1097,
   "id": "44d88fcd",
   "metadata": {},
   "outputs": [
    {
     "name": "stdout",
     "output_type": "stream",
     "text": [
      "LinearRegression()-->1.0\n"
     ]
    }
   ],
   "source": [
    "from sklearn.linear_model import LinearRegression\n",
    "m1 =LinearRegression()\n",
    "check_accOfModel(m1)"
   ]
  },
  {
   "cell_type": "code",
   "execution_count": 1098,
   "id": "d83541c8",
   "metadata": {},
   "outputs": [],
   "source": [
    "#m1 Model saving\n",
    "import pickle\n",
    "with open('m2.pickle','wb') as file:\n",
    "    pickle.dump(m1,file)"
   ]
  },
  {
   "cell_type": "code",
   "execution_count": 1099,
   "id": "5b5cd1dd",
   "metadata": {},
   "outputs": [],
   "source": [
    "# input1 = np.array([525]).reshape((-1,1))\n",
    "# input1"
   ]
  },
  {
   "cell_type": "code",
   "execution_count": 1100,
   "id": "87e48db0",
   "metadata": {},
   "outputs": [],
   "source": [
    "# m1.predict(input1)"
   ]
  },
  {
   "cell_type": "code",
   "execution_count": 1101,
   "id": "9526560c",
   "metadata": {},
   "outputs": [
    {
     "name": "stdout",
     "output_type": "stream",
     "text": [
      "Enter the area of house to predict raw material amount : 1\n",
      "{ 'Cement' : ' 75.99999999998546 ' , 'Sand' : ' 1.8000000000004546 ' , 'Bricks' : ' 1.4500000000004545 ' , 'Steel' : ' 4.0 ' }\n"
     ]
    },
    {
     "name": "stderr",
     "output_type": "stream",
     "text": [
      "C:\\Users\\Geethan\\anaconda3\\lib\\site-packages\\sklearn\\base.py:566: FutureWarning: Arrays of bytes/strings is being converted to decimal numbers if dtype='numeric'. This behavior is deprecated in 0.24 and will be removed in 1.1 (renaming of 0.26). Please convert your data to numeric values explicitly instead.\n",
      "  X = check_array(X, **check_params)\n",
      "C:\\Users\\Geethan\\anaconda3\\lib\\site-packages\\sklearn\\base.py:566: FutureWarning: Arrays of bytes/strings is being converted to decimal numbers if dtype='numeric'. This behavior is deprecated in 0.24 and will be removed in 1.1 (renaming of 0.26). Please convert your data to numeric values explicitly instead.\n",
      "  X = check_array(X, **check_params)\n",
      "C:\\Users\\Geethan\\anaconda3\\lib\\site-packages\\sklearn\\base.py:566: FutureWarning: Arrays of bytes/strings is being converted to decimal numbers if dtype='numeric'. This behavior is deprecated in 0.24 and will be removed in 1.1 (renaming of 0.26). Please convert your data to numeric values explicitly instead.\n",
      "  X = check_array(X, **check_params)\n",
      "C:\\Users\\Geethan\\anaconda3\\lib\\site-packages\\sklearn\\base.py:566: FutureWarning: Arrays of bytes/strings is being converted to decimal numbers if dtype='numeric'. This behavior is deprecated in 0.24 and will be removed in 1.1 (renaming of 0.26). Please convert your data to numeric values explicitly instead.\n",
      "  X = check_array(X, **check_params)\n"
     ]
    }
   ],
   "source": [
    "with open('m1.pickle','rb') as file:\n",
    "   m1 = pickle.load(file)\n",
    "with open('m2.pickle','rb') as file:\n",
    "   m2 = pickle.load(file)\n",
    "with open('m3.pickle','rb') as file:\n",
    "   m3 = pickle.load(file)\n",
    "with open('m4.pickle','rb') as file:\n",
    "   m4 = pickle.load(file)\n",
    "sft = input(\"Enter the area of house to predict raw material amount : \")\n",
    "myinput = np.array([sft]).reshape((-1,1))\n",
    "cement = m1.predict(myinput)\n",
    "sand = m2.predict(myinput)\n",
    "bricks = m3.predict(myinput)\n",
    "steel = m4.predict(myinput)\n",
    "print(\"{\",\"'Cement'\",':',\"'\",cement[0,0],\"'\",\",\",\"'Sand'\",':',\"'\",sand[0,0],\"'\",\",\",\"'Bricks'\",\":\",\"'\",bricks[0,0],\"'\",\",\",\"'Steel'\",\":\",\"'\",steel[0,0],\"'\",\"}\")"
   ]
  },
  {
   "cell_type": "code",
   "execution_count": null,
   "id": "e9835e65",
   "metadata": {},
   "outputs": [],
   "source": []
  }
 ],
 "metadata": {
  "kernelspec": {
   "display_name": "Python 3 (ipykernel)",
   "language": "python",
   "name": "python3"
  },
  "language_info": {
   "codemirror_mode": {
    "name": "ipython",
    "version": 3
   },
   "file_extension": ".py",
   "mimetype": "text/x-python",
   "name": "python",
   "nbconvert_exporter": "python",
   "pygments_lexer": "ipython3",
   "version": "3.9.12"
  }
 },
 "nbformat": 4,
 "nbformat_minor": 5
}
